{
 "cells": [
  {
   "cell_type": "code",
   "execution_count": 1,
   "metadata": {},
   "outputs": [],
   "source": [
    "def P(n):\n",
    "    i=1;\n",
    "    d=0;\n",
    "    l=0;\n",
    "    lis=list();\n",
    "    while i<n :\n",
    "        lis.append(i);\n",
    "\n",
    "        i=i+i;\n",
    "        d=d+1;\n",
    "        if n-i <i and d>2 :\n",
    "            l=len(lis)-1;\n",
    "            while i<n and l>0:\n",
    "                if n-i>=lis[l]:\n",
    "                    i=i+lis[l];\n",
    "                    d=d+1;\n",
    "                    l=l-1;\n",
    "                else :\n",
    "                    l=l-1; \n",
    "\n",
    "    \n",
    "    if n==1 :\n",
    "        s=0;\n",
    "    elif n==2 :\n",
    "        s=1;\n",
    "    else :\n",
    "        i=3;\n",
    "        s=2;\n",
    "        lis1=[1,2,3];\n",
    "\n",
    "        while i<n :\n",
    "            lis1.append(i);\n",
    "\n",
    "            i=i+i;\n",
    "            s=s+1;\n",
    "            if n-i <i and d>2 :\n",
    "                l=len(lis1)-1;\n",
    "                while i<n and l>0:\n",
    "                    if n-i>=lis1[l]:\n",
    "                        i=i+lis1[l];\n",
    "                        s=s+1;\n",
    "                        l=l-1;\n",
    "                    else :\n",
    "                        l=l-1;\n",
    "                      \n",
    "    return min(s,d);                          "
   ]
  },
  {
   "cell_type": "code",
   "execution_count": 2,
   "metadata": {},
   "outputs": [
    {
     "data": {
      "text/plain": [
       "1"
      ]
     },
     "execution_count": 2,
     "metadata": {},
     "output_type": "execute_result"
    }
   ],
   "source": [
    "P(2)"
   ]
  },
  {
   "cell_type": "code",
   "execution_count": 3,
   "metadata": {},
   "outputs": [
    {
     "data": {
      "text/plain": [
       "4"
      ]
     },
     "execution_count": 3,
     "metadata": {},
     "output_type": "execute_result"
    }
   ],
   "source": [
    "P(12\n",
    " )"
   ]
  },
  {
   "cell_type": "code",
   "execution_count": 4,
   "metadata": {},
   "outputs": [
    {
     "data": {
      "text/plain": [
       "6"
      ]
     },
     "execution_count": 4,
     "metadata": {},
     "output_type": "execute_result"
    }
   ],
   "source": [
    "P(36)"
   ]
  },
  {
   "cell_type": "code",
   "execution_count": 5,
   "metadata": {},
   "outputs": [
    {
     "data": {
      "text/plain": [
       "1628"
      ]
     },
     "execution_count": 5,
     "metadata": {},
     "output_type": "execute_result"
    }
   ],
   "source": [
    "s=0;\n",
    "for i in range (200):\n",
    "    \n",
    "    s=P(i)+s;\n",
    "    \n",
    "s \n"
   ]
  },
  {
   "cell_type": "code",
   "execution_count": null,
   "metadata": {},
   "outputs": [],
   "source": []
  }
 ],
 "metadata": {
  "kernelspec": {
   "display_name": "Python 3",
   "language": "python",
   "name": "python3"
  },
  "language_info": {
   "codemirror_mode": {
    "name": "ipython",
    "version": 3
   },
   "file_extension": ".py",
   "mimetype": "text/x-python",
   "name": "python",
   "nbconvert_exporter": "python",
   "pygments_lexer": "ipython3",
   "version": "3.6.4"
  }
 },
 "nbformat": 4,
 "nbformat_minor": 2
}
